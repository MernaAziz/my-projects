{
 "cells": [
  {
   "cell_type": "code",
   "execution_count": 12,
   "id": "8b749b4e-365e-4c2d-a590-3f4d8927d1f6",
   "metadata": {},
   "outputs": [],
   "source": [
    "import numpy as np"
   ]
  },
  {
   "cell_type": "code",
   "execution_count": 14,
   "id": "c0fb4a76-87a4-4052-9f55-119ec8d4be4f",
   "metadata": {},
   "outputs": [],
   "source": [
    "def sigmoid(x):\n",
    "    return 1 / (1 + np.exp(-x))\n",
    "\n",
    "def sigmoid_derivative(x):\n",
    "    return x * (1 - x)\n",
    "\n",
    "#input values\n",
    "X = np.array([[0.05, 0.10]])  # Inputs i1, i2\n",
    "\n",
    "y = np.array([[0.01, 0.99]])  # Expected outputs\n",
    "\n",
    "# weights and biases\n",
    "w1 = np.array([[0.15, 0.20], [0.25, 0.30]])  # Input to hidden weights\n",
    "b1 = np.array([[0.35, 0.35]])  # Bias for hidden layer\n",
    "w2 = np.array([[0.40, 0.45], [0.50, 0.55]])  # Hidden to output weights\n",
    "b2 = np.array([[0.60, 0.60]])  # Bias for output layer\n",
    "\n",
    "# Learning rate\n",
    "lr = 0.5"
   ]
  },
  {
   "cell_type": "code",
   "execution_count": 16,
   "id": "dfe27121-7bbb-4708-a60c-70b6571d4080",
   "metadata": {},
   "outputs": [],
   "source": [
    "# Feedforward\n",
    "hidden_input = np.dot(X, w1) + b1\n",
    "hidden_output = sigmoid(hidden_input)\n",
    "output_input = np.dot(hidden_output, w2) + b2\n",
    "output = sigmoid(output_input)\n",
    "\n",
    "# Compute error\n",
    "error = y - output\n",
    "mse = np.mean(error ** 2)"
   ]
  },
  {
   "cell_type": "code",
   "execution_count": 18,
   "id": "100b7891-ee46-47b8-86b9-75d7f14ea711",
   "metadata": {},
   "outputs": [],
   "source": [
    "# Backpropagation\n",
    "output_error = error * sigmoid_derivative(output)\n",
    "w2_gradient = np.dot(hidden_output.T, output_error)\n",
    "b2_gradient = np.sum(output_error)\n",
    "\n",
    "hidden_error = np.dot(output_error, w2.T) * sigmoid_derivative(hidden_output)\n",
    "w1_gradient = np.dot(X.T, hidden_error)\n",
    "b1_gradient = np.sum(hidden_error)\n",
    "\n",
    "# Update weights and biases\n",
    "w2 += lr * w2_gradient\n",
    "b2 += lr * b2_gradient\n",
    "w1 += lr * w1_gradient\n",
    "b1 += lr * b1_gradient"
   ]
  },
  {
   "cell_type": "code",
   "execution_count": 20,
   "id": "36687b3d-75fc-4f8a-9da0-978cd43c17e3",
   "metadata": {},
   "outputs": [
    {
     "name": "stdout",
     "output_type": "stream",
     "text": [
      "Updated Weights (w1): [[0.14977621 0.19971768]\n",
      " [0.24955242 0.29943536]]\n",
      "Updated Biases (b1): [[0.33987771 0.33987771]]\n",
      "Updated Weights (w2): [[0.35915207 0.4617822 ]\n",
      " [0.45902792 0.56181801]]\n",
      "Updated Biases (b2): [[0.55110696 0.55110696]]\n",
      "Final Output: [[0.75693192 0.76771788]]\n",
      "Mean Squared Error: 0.303658313630144\n"
     ]
    }
   ],
   "source": [
    "print(\"Updated Weights (w1):\", w1)\n",
    "print(\"Updated Biases (b1):\", b1)\n",
    "print(\"Updated Weights (w2):\", w2)\n",
    "print(\"Updated Biases (b2):\", b2)\n",
    "print(\"Final Output:\", output)\n",
    "print(\"Mean Squared Error:\", mse)"
   ]
  },
  {
   "cell_type": "code",
   "execution_count": null,
   "id": "a203ee55-ba4d-49bd-9697-cb3d4698864f",
   "metadata": {},
   "outputs": [],
   "source": []
  }
 ],
 "metadata": {
  "kernelspec": {
   "display_name": "Python [conda env:base] *",
   "language": "python",
   "name": "conda-base-py"
  },
  "language_info": {
   "codemirror_mode": {
    "name": "ipython",
    "version": 3
   },
   "file_extension": ".py",
   "mimetype": "text/x-python",
   "name": "python",
   "nbconvert_exporter": "python",
   "pygments_lexer": "ipython3",
   "version": "3.12.7"
  }
 },
 "nbformat": 4,
 "nbformat_minor": 5
}
